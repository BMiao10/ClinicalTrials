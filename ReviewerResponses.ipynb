{
 "cells": [
  {
   "cell_type": "code",
   "execution_count": 1,
   "id": "5df98e5a",
   "metadata": {},
   "outputs": [],
   "source": [
    "# Imports\n",
    "%run ./ClinicalTrialFunctions.py\n",
    "\n",
    "# Load data\n",
    "clinical_df = pd.read_parquet('./exampleFile/DTxClinicalTrials.parquet.gzip')\n",
    "colors = {'Observational': \"steelblue\", 'Interventional': \"orange\"}\n"
   ]
  },
  {
   "cell_type": "code",
   "execution_count": 44,
   "id": "72a30ca7",
   "metadata": {
    "scrolled": true
   },
   "outputs": [
    {
     "name": "stdout",
     "output_type": "stream",
     "text": [
      "***************\n",
      "Conditions containing terms 'addiction', 'cessation', 'smoking,' or 'drugs'\n",
      "Behavior and Behavior Mechanisms    7\n",
      "Chemically-Induced Disorders        1\n",
      "Name: conditionMeshMainBranch, dtype: int64\n",
      "\n",
      "Conditions listed for Behavior and Behavior Mechanisms\n",
      "['Smoking Cessation,Smoking Behaviors,Smoking Reduction,Smoking, Cigarette,Smoking,Nicotine Dependence'\n",
      " 'Smoking Cessation,Smoking,Smoking Behaviors,Smoking Reduction,Smoking, Tobacco,Smoking, Cigarette,Hiv,HIV/AIDS'\n",
      " 'HIV/AIDS,Smoking Cessation,Tobacco Use Disorder'\n",
      " 'Depression,Addiction,Anxiety,Sleep Disturbance' 'Smoking Cessation'\n",
      " 'Smoking,Smoking Cessation' 'Smoking Cessation']\n",
      "\n",
      "Conditions listed for Chemically-Induced Disorders\n",
      "['Smoking Cessation,Nicotine Addiction,Drug Addiction,Drug Dependence,Tobacco Dependence,Tobacco Use Disorder,Substance Use Disorder,Tobacco Smoking']\n",
      "\n",
      "***************\n",
      "\n",
      "Conditions containing terms 'depression' or 'anxiety'\n",
      "Behavior and Behavior Mechanisms               16\n",
      "Mental Disorders                                7\n",
      "Pathological Conditions, Signs and Symptoms     2\n",
      "Investigative Techniques                        1\n",
      "Urogenital Diseases                             1\n",
      "Immune System Diseases                          1\n",
      "Name: conditionMeshMainBranch, dtype: int64\n",
      "\n",
      "Conditions listed for Behavior and Behavior Mechanisms\n",
      "['Depression,Depressive Disorder,Depressive Symptoms,Depressive Episode,Adolescent Behavior,Adolescent - Emotional Problem'\n",
      " 'Depression' 'Depression,Addiction,Anxiety,Sleep Disturbance'\n",
      " 'Depression,Tobacco Use Disorder,Current Every Day Smoker'\n",
      " 'Depression in Adolescence'\n",
      " 'Self-Injurious Behavior,Self Harm,Self-injury,Self-inflicted Injury,Self Injurious Behavior Without Suicidal Intent,Non-Suicidal Self Injury,Non Suicidal Self Inflicted Injury,Cutting,Depression,Bipolar Disorder,Borderline Personality Disorder'\n",
      " 'Postoperative Pain,Anxiety Postoperative,Opioid Use' 'Anxiety'\n",
      " 'Procedural Anxiety,Procedural Pain,Perioperative Care'\n",
      " 'Anxiety and Depression,Postpartum Depression,Pregnancy Related'\n",
      " 'Dental Anxiety' 'Anxiety,Pain' 'Procedural Anxiety,Procedural Pain'\n",
      " 'Anxiety' 'Chronic Low-back Pain,Anxiety,Depression' 'Depression']\n",
      "\n",
      "Conditions listed for Mental Disorders\n",
      "['Major Depressive Disorder,Generalized Anxiety Disorder'\n",
      " 'Anxiety Disorders,Depressive Disorder,Eating Disorders'\n",
      " 'Social Anxiety Disorder'\n",
      " 'Tobacco Use Disorder,Mental Illness,Depression,Bipolar Disorder,Schizophrenia,Schizoaffective Disorder'\n",
      " 'Post Traumatic Stress Disorder,Anxiety'\n",
      " 'Major Depressive Disorder,MDD,Depression' 'Social Anxiety Disorder']\n",
      "\n",
      "***************\n",
      "\n",
      "Conditions containing terms 'diabetes', 'T1D', or 'T2D'\n",
      "Nutritional and Metabolic Diseases    44\n",
      "Urogenital Diseases                    1\n",
      "Name: conditionMeshMainBranch, dtype: int64\n",
      "['Gestational Diabetes Mellitus']\n",
      "\n"
     ]
    }
   ],
   "source": [
    "### Examples of conditions mapping to specific mesh groups\n",
    "clinical_df[\"conditionsJoined\"] = [\",\".join(c) for c in clinical_df[\"Condition\"]]\n",
    "\n",
    "# MeSH groups for DTx to treat Addiction (eg. smoking addiction), \n",
    "print('***************')\n",
    "print(\"Conditions containing terms 'addiction', 'cessation', 'smoking,' or 'drugs'\")\n",
    "drug_df = clinical_df[clinical_df[\"conditionsJoined\"].str.lower().str.contains(\"addiction|cessation|smoking|drugs\")]\n",
    "print(drug_df[\"conditionMeshMainBranch\"].value_counts())\n",
    "print()\n",
    "print(\"Conditions listed for Behavior and Behavior Mechanisms\")\n",
    "print(drug_df[drug_df[\"conditionMeshMainBranch\"]!=\"Chemically-Induced Disorders\"]['conditionsJoined'].values)\n",
    "print()\n",
    "print(\"Conditions listed for Chemically-Induced Disorders\")\n",
    "print(drug_df[drug_df[\"conditionMeshMainBranch\"]==\"Chemically-Induced Disorders\"]['conditionsJoined'].values)\n",
    "print('\\n***************\\n')\n",
    "\n",
    "# Mental health (eg. depression and anxiety)\n",
    "print(\"Conditions containing terms 'depression' or 'anxiety'\")\n",
    "mental_health_df = clinical_df[clinical_df[\"conditionsJoined\"].str.lower().str.contains(\"depression|anxiety\")]\n",
    "print(mental_health_df[\"conditionMeshMainBranch\"].value_counts())\n",
    "print()\n",
    "\n",
    "# Which conditions conditions containing depression or anxity are listed as \"behavior\" vs \"mental disorder\"?\n",
    "print(\"Conditions listed for Behavior and Behavior Mechanisms\")\n",
    "print(mental_health_df[mental_health_df[\"conditionMeshMainBranch\"]==\"Behavior and Behavior Mechanisms\"]['conditionsJoined'].values)\n",
    "print()\n",
    "print(\"Conditions listed for Mental Disorders\")\n",
    "print(mental_health_df[mental_health_df[\"conditionMeshMainBranch\"]==\"Mental Disorders\"]['conditionsJoined'].values)\n",
    "print('\\n***************\\n')\n",
    "\n",
    "# Diabetes\n",
    "print(\"Conditions containing terms 'diabetes', 'T1D', or 'T2D'\")\n",
    "diabetes_df = clinical_df[clinical_df[\"conditionsJoined\"].str.lower().str.contains(\"diabetes|t1d|t2d\")]\n",
    "print(diabetes_df[\"conditionMeshMainBranch\"].value_counts())\n",
    "print(diabetes_df[diabetes_df[\"conditionMeshMainBranch\"]==\"Urogenital Diseases\"]['conditionsJoined'].values)\n",
    "\n",
    "print()\n",
    "\n",
    "    "
   ]
  },
  {
   "cell_type": "code",
   "execution_count": null,
   "id": "ee55f509",
   "metadata": {},
   "outputs": [],
   "source": [
    "# Are the designs of digital therapeutic clinical trials to evaluate efficacy and safety\n",
    "# different depending on disease areas?\n",
    "\n",
    "\n"
   ]
  },
  {
   "cell_type": "code",
   "execution_count": null,
   "id": "b0fb077e",
   "metadata": {},
   "outputs": [],
   "source": []
  },
  {
   "cell_type": "code",
   "execution_count": null,
   "id": "bd5e49de",
   "metadata": {},
   "outputs": [],
   "source": []
  },
  {
   "cell_type": "code",
   "execution_count": null,
   "id": "6ef1641c",
   "metadata": {},
   "outputs": [],
   "source": []
  },
  {
   "cell_type": "code",
   "execution_count": null,
   "id": "37d766c8",
   "metadata": {},
   "outputs": [],
   "source": []
  },
  {
   "cell_type": "code",
   "execution_count": null,
   "id": "98e606de",
   "metadata": {},
   "outputs": [],
   "source": []
  }
 ],
 "metadata": {
  "kernelspec": {
   "display_name": "Python 3",
   "language": "python",
   "name": "python3"
  },
  "language_info": {
   "codemirror_mode": {
    "name": "ipython",
    "version": 3
   },
   "file_extension": ".py",
   "mimetype": "text/x-python",
   "name": "python",
   "nbconvert_exporter": "python",
   "pygments_lexer": "ipython3",
   "version": "3.7.9"
  }
 },
 "nbformat": 4,
 "nbformat_minor": 5
}
